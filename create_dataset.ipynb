{
 "cells": [
  {
   "cell_type": "code",
   "execution_count": 2,
   "metadata": {},
   "outputs": [],
   "source": [
    "import pandas as pd\n",
    "import os\n",
    "import matplotlib.pyplot as plt\n",
    "import numpy as np\n",
    "import pywt\n",
    "import cv2"
   ]
  },
  {
   "cell_type": "code",
   "execution_count": 16,
   "metadata": {},
   "outputs": [
    {
     "name": "stdout",
     "output_type": "stream",
     "text": [
      ".\\stocks_data ['Adani_Ports_And_Special_Economic_Zone', 'Asian_Paints', 'Axis_Bank', 'Bharat_Petroleum_Corporation', 'Bharti_Airtel', 'Coal_India', 'Divis_Laboratories', 'Grasim_industries', 'HDFC_Life_Insurance_Comapny', 'Hindustan_Unilever', 'ICICI_Bank', 'infosys', 'ITC', 'JSW_Steel', 'Larsen_&_Toubro', 'Netsle_India', 'NTPC', 'Power_Grid_Corporation_of_India', 'Shree_cement', 'Tata_Consultancy_Services', 'Tech_Mahindra', 'Titan_Company', 'Ultratech_cement', 'UPL', 'Wipro'] []\n",
      ".\\stocks_data\\Adani_Ports_And_Special_Economic_Zone ['Daily', 'Monthly', 'Weekly'] []\n",
      ".\\stocks_data\\Adani_Ports_And_Special_Economic_Zone\\Daily [] ['ADANIPORTS.NS.csv']\n",
      ".\\stocks_data\\Adani_Ports_And_Special_Economic_Zone\\Monthly [] ['ADANIPORTS.NS (1).csv']\n",
      ".\\stocks_data\\Adani_Ports_And_Special_Economic_Zone\\Weekly [] ['ADANIPORTS.NS (2).csv']\n",
      ".\\stocks_data\\Asian_Paints ['Daily', 'Monthly', 'Weekly'] []\n",
      ".\\stocks_data\\Asian_Paints\\Daily [] ['ASIANPAINT.NS.csv']\n",
      ".\\stocks_data\\Asian_Paints\\Monthly [] ['ASIANPAINT.NS (1).csv']\n",
      ".\\stocks_data\\Asian_Paints\\Weekly [] ['ASIANPAINT.NS (2).csv']\n",
      ".\\stocks_data\\Axis_Bank ['Daily', 'Monthly', 'Weekly'] []\n",
      ".\\stocks_data\\Axis_Bank\\Daily [] ['AXISBANK.NS.csv']\n",
      ".\\stocks_data\\Axis_Bank\\Monthly [] ['AXISBANK.NS (1).csv']\n",
      ".\\stocks_data\\Axis_Bank\\Weekly [] ['AXISBANK.NS (2).csv']\n",
      ".\\stocks_data\\Bharat_Petroleum_Corporation ['Daily', 'Monthly', 'Weekly'] []\n",
      ".\\stocks_data\\Bharat_Petroleum_Corporation\\Daily [] ['BPCL.NS.csv']\n",
      ".\\stocks_data\\Bharat_Petroleum_Corporation\\Monthly [] ['BPCL.NS (1).csv']\n",
      ".\\stocks_data\\Bharat_Petroleum_Corporation\\Weekly [] ['BPCL.NS (2).csv']\n",
      ".\\stocks_data\\Bharti_Airtel ['Daily', 'Monthly', 'Weekly'] []\n",
      ".\\stocks_data\\Bharti_Airtel\\Daily [] ['BHARTIARTL.NS.csv']\n",
      ".\\stocks_data\\Bharti_Airtel\\Monthly [] ['BHARTIARTL.NS (1).csv']\n",
      ".\\stocks_data\\Bharti_Airtel\\Weekly [] ['BHARTIARTL.NS (2).csv']\n",
      ".\\stocks_data\\Coal_India ['Daily', 'Monthly', 'Weekly'] []\n",
      ".\\stocks_data\\Coal_India\\Daily [] ['COALINDIA.NS.csv']\n",
      ".\\stocks_data\\Coal_India\\Monthly [] ['COALINDIA.NS (1).csv']\n",
      ".\\stocks_data\\Coal_India\\Weekly [] ['COALINDIA.NS (2).csv']\n",
      ".\\stocks_data\\Divis_Laboratories ['Daily', 'Monthly', 'Weekly'] []\n",
      ".\\stocks_data\\Divis_Laboratories\\Daily [] ['DIVISLAB.NS (1).csv']\n",
      ".\\stocks_data\\Divis_Laboratories\\Monthly [] ['DIVISLAB.NS (3).csv']\n",
      ".\\stocks_data\\Divis_Laboratories\\Weekly [] ['DIVISLAB.NS (2).csv']\n",
      ".\\stocks_data\\Grasim_industries ['Daily', 'Monthly', 'Weekly'] []\n",
      ".\\stocks_data\\Grasim_industries\\Daily [] ['GRASIM.NS.csv']\n",
      ".\\stocks_data\\Grasim_industries\\Monthly [] ['GRASIM.NS (1).csv']\n",
      ".\\stocks_data\\Grasim_industries\\Weekly [] ['GRASIM.NS (2).csv']\n",
      ".\\stocks_data\\HDFC_Life_Insurance_Comapny ['Daily', 'Monthly', 'Weekly'] []\n",
      ".\\stocks_data\\HDFC_Life_Insurance_Comapny\\Daily [] ['HDFCLIFE.NS.csv']\n",
      ".\\stocks_data\\HDFC_Life_Insurance_Comapny\\Monthly [] ['HDFCLIFE.NS (1).csv']\n",
      ".\\stocks_data\\HDFC_Life_Insurance_Comapny\\Weekly [] ['HDFCLIFE.NS (2).csv']\n",
      ".\\stocks_data\\Hindustan_Unilever ['Daily', 'Monthly', 'Weekly'] []\n",
      ".\\stocks_data\\Hindustan_Unilever\\Daily [] ['HINDUNILVR.NS.csv']\n",
      ".\\stocks_data\\Hindustan_Unilever\\Monthly [] ['HINDUNILVR.NS (1).csv']\n",
      ".\\stocks_data\\Hindustan_Unilever\\Weekly [] ['HINDUNILVR.NS (2).csv']\n",
      ".\\stocks_data\\ICICI_Bank ['Daily', 'Monthly', 'Weekly'] []\n",
      ".\\stocks_data\\ICICI_Bank\\Daily [] ['ICICIBANK.NS.csv']\n",
      ".\\stocks_data\\ICICI_Bank\\Monthly [] ['ICICIBANK.NS (2).csv']\n",
      ".\\stocks_data\\ICICI_Bank\\Weekly [] ['ICICIBANK.NS (1).csv']\n",
      ".\\stocks_data\\infosys ['Daily', 'Monthly', 'Weekly'] []\n",
      ".\\stocks_data\\infosys\\Daily [] ['INFY.NS.csv']\n",
      ".\\stocks_data\\infosys\\Monthly [] ['INFY.NS (1).csv']\n",
      ".\\stocks_data\\infosys\\Weekly [] ['INFY.NS (2).csv']\n",
      ".\\stocks_data\\ITC ['Daily', 'Monthly', 'Weekly'] []\n",
      ".\\stocks_data\\ITC\\Daily [] ['ITC.NS.csv']\n",
      ".\\stocks_data\\ITC\\Monthly [] ['ITC.NS (1).csv']\n",
      ".\\stocks_data\\ITC\\Weekly [] ['ITC.NS (2).csv']\n",
      ".\\stocks_data\\JSW_Steel ['Daily', 'Monthly', 'Weekly'] []\n",
      ".\\stocks_data\\JSW_Steel\\Daily [] ['JSWSTEEL.NS.csv']\n",
      ".\\stocks_data\\JSW_Steel\\Monthly [] ['JSWSTEEL.NS (1).csv']\n",
      ".\\stocks_data\\JSW_Steel\\Weekly [] ['JSWSTEEL.NS (2).csv']\n",
      ".\\stocks_data\\Larsen_&_Toubro ['Daily', 'Monthly', 'Weekly'] []\n",
      ".\\stocks_data\\Larsen_&_Toubro\\Daily [] ['LT.NS.csv']\n",
      ".\\stocks_data\\Larsen_&_Toubro\\Monthly [] ['LT.NS (1).csv']\n",
      ".\\stocks_data\\Larsen_&_Toubro\\Weekly [] ['LT.NS (2).csv']\n",
      ".\\stocks_data\\Netsle_India ['Daily', 'Monthly', 'Weekly'] []\n",
      ".\\stocks_data\\Netsle_India\\Daily [] ['NESTLEIND.NS.csv']\n",
      ".\\stocks_data\\Netsle_India\\Monthly [] ['NESTLEIND.NS (1).csv']\n",
      ".\\stocks_data\\Netsle_India\\Weekly [] ['NESTLEIND.NS (2).csv']\n",
      ".\\stocks_data\\NTPC ['Daily', 'Monthly', 'Weekly'] []\n",
      ".\\stocks_data\\NTPC\\Daily [] ['NTPC.NS.csv']\n",
      ".\\stocks_data\\NTPC\\Monthly [] ['NTPC.NS (1).csv']\n",
      ".\\stocks_data\\NTPC\\Weekly [] ['NTPC.NS (2).csv']\n",
      ".\\stocks_data\\Power_Grid_Corporation_of_India ['Daily', 'Monthly', 'Weekly'] []\n",
      ".\\stocks_data\\Power_Grid_Corporation_of_India\\Daily [] ['POWERGRID.NS.csv']\n",
      ".\\stocks_data\\Power_Grid_Corporation_of_India\\Monthly [] ['POWERGRID.NS (1).csv']\n",
      ".\\stocks_data\\Power_Grid_Corporation_of_India\\Weekly [] ['POWERGRID.NS (2).csv']\n",
      ".\\stocks_data\\Shree_cement ['Daily', 'Monthly', 'Weekly'] []\n",
      ".\\stocks_data\\Shree_cement\\Daily [] ['SHREECEM.NS.csv']\n",
      ".\\stocks_data\\Shree_cement\\Monthly [] ['SHREECEM.NS (1).csv']\n",
      ".\\stocks_data\\Shree_cement\\Weekly [] ['SHREECEM.NS (2).csv']\n",
      ".\\stocks_data\\Tata_Consultancy_Services ['Daily', 'Monthly', 'Weekly'] []\n",
      ".\\stocks_data\\Tata_Consultancy_Services\\Daily [] ['TCS.NS.csv']\n",
      ".\\stocks_data\\Tata_Consultancy_Services\\Monthly [] ['TCS.NS (1).csv']\n",
      ".\\stocks_data\\Tata_Consultancy_Services\\Weekly [] ['TCS.NS (2).csv']\n",
      ".\\stocks_data\\Tech_Mahindra ['Daily', 'Monthly', 'Weekly'] []\n",
      ".\\stocks_data\\Tech_Mahindra\\Daily [] ['TECHM.NS.csv']\n",
      ".\\stocks_data\\Tech_Mahindra\\Monthly [] ['TECHM.NS (1).csv']\n",
      ".\\stocks_data\\Tech_Mahindra\\Weekly [] ['TECHM.NS (2).csv']\n",
      ".\\stocks_data\\Titan_Company ['Daily', 'Monthly', 'Weekly'] []\n",
      ".\\stocks_data\\Titan_Company\\Daily [] ['TITAN.NS.csv']\n",
      ".\\stocks_data\\Titan_Company\\Monthly [] ['TITAN.NS (1).csv']\n",
      ".\\stocks_data\\Titan_Company\\Weekly [] ['TITAN.NS (2).csv']\n",
      ".\\stocks_data\\Ultratech_cement ['Daily', 'Monthly', 'Weekly'] []\n",
      ".\\stocks_data\\Ultratech_cement\\Daily [] ['ULTRACEMCO.NS.csv']\n",
      ".\\stocks_data\\Ultratech_cement\\Monthly [] ['ULTRACEMCO.NS (2).csv']\n",
      ".\\stocks_data\\Ultratech_cement\\Weekly [] ['ULTRACEMCO.NS (1).csv']\n",
      ".\\stocks_data\\UPL ['Daily', 'Monthly', 'Weekly'] []\n",
      ".\\stocks_data\\UPL\\Daily [] ['UPL.NS.csv']\n",
      ".\\stocks_data\\UPL\\Monthly [] ['UPL.NS (1).csv']\n",
      ".\\stocks_data\\UPL\\Weekly [] ['UPL.NS (2).csv']\n",
      ".\\stocks_data\\Wipro ['Daily', 'Monthly', 'Weekly'] []\n",
      ".\\stocks_data\\Wipro\\Daily [] ['WIPRO.NS.csv']\n",
      ".\\stocks_data\\Wipro\\Monthly [] ['WIPRO.NS (1).csv']\n",
      ".\\stocks_data\\Wipro\\Weekly [] ['WIPRO.NS (2).csv']\n"
     ]
    }
   ],
   "source": [
    "for root, dirs, files in os.walk(\".\\stocks_data\"):\n",
    "    print(root, dirs, files)"
   ]
  },
  {
   "cell_type": "code",
   "execution_count": 19,
   "metadata": {},
   "outputs": [
    {
     "name": "stdout",
     "output_type": "stream",
     "text": [
      "{'Daily': [('Adani_Ports_And_Special_Economic_Zone', ['ADANIPORTS.NS.csv']), ('Asian_Paints', ['ASIANPAINT.NS.csv']), ('Axis_Bank', ['AXISBANK.NS.csv']), ('Bharat_Petroleum_Corporation', ['BPCL.NS.csv']), ('Bharti_Airtel', ['BHARTIARTL.NS.csv']), ('Coal_India', ['COALINDIA.NS.csv']), ('Divis_Laboratories', ['DIVISLAB.NS (1).csv']), ('Grasim_industries', ['GRASIM.NS.csv']), ('HDFC_Life_Insurance_Comapny', ['HDFCLIFE.NS.csv']), ('Hindustan_Unilever', ['HINDUNILVR.NS.csv']), ('ICICI_Bank', ['ICICIBANK.NS.csv']), ('infosys', ['INFY.NS.csv']), ('ITC', ['ITC.NS.csv']), ('JSW_Steel', ['JSWSTEEL.NS.csv']), ('Larsen_&_Toubro', ['LT.NS.csv']), ('Netsle_India', ['NESTLEIND.NS.csv']), ('NTPC', ['NTPC.NS.csv']), ('Power_Grid_Corporation_of_India', ['POWERGRID.NS.csv']), ('Shree_cement', ['SHREECEM.NS.csv']), ('Tata_Consultancy_Services', ['TCS.NS.csv']), ('Tech_Mahindra', ['TECHM.NS.csv']), ('Titan_Company', ['TITAN.NS.csv']), ('Ultratech_cement', ['ULTRACEMCO.NS.csv']), ('UPL', ['UPL.NS.csv']), ('Wipro', ['WIPRO.NS.csv'])], 'Monthly': [('Adani_Ports_And_Special_Economic_Zone', ['ADANIPORTS.NS (1).csv']), ('Asian_Paints', ['ASIANPAINT.NS (1).csv']), ('Axis_Bank', ['AXISBANK.NS (1).csv']), ('Bharat_Petroleum_Corporation', ['BPCL.NS (1).csv']), ('Bharti_Airtel', ['BHARTIARTL.NS (1).csv']), ('Coal_India', ['COALINDIA.NS (1).csv']), ('Divis_Laboratories', ['DIVISLAB.NS (3).csv']), ('Grasim_industries', ['GRASIM.NS (1).csv']), ('HDFC_Life_Insurance_Comapny', ['HDFCLIFE.NS (1).csv']), ('Hindustan_Unilever', ['HINDUNILVR.NS (1).csv']), ('ICICI_Bank', ['ICICIBANK.NS (2).csv']), ('infosys', ['INFY.NS (1).csv']), ('ITC', ['ITC.NS (1).csv']), ('JSW_Steel', ['JSWSTEEL.NS (1).csv']), ('Larsen_&_Toubro', ['LT.NS (1).csv']), ('Netsle_India', ['NESTLEIND.NS (1).csv']), ('NTPC', ['NTPC.NS (1).csv']), ('Power_Grid_Corporation_of_India', ['POWERGRID.NS (1).csv']), ('Shree_cement', ['SHREECEM.NS (1).csv']), ('Tata_Consultancy_Services', ['TCS.NS (1).csv']), ('Tech_Mahindra', ['TECHM.NS (1).csv']), ('Titan_Company', ['TITAN.NS (1).csv']), ('Ultratech_cement', ['ULTRACEMCO.NS (2).csv']), ('UPL', ['UPL.NS (1).csv']), ('Wipro', ['WIPRO.NS (1).csv'])], 'Weekly': [('Adani_Ports_And_Special_Economic_Zone', ['ADANIPORTS.NS (2).csv']), ('Asian_Paints', ['ASIANPAINT.NS (2).csv']), ('Axis_Bank', ['AXISBANK.NS (2).csv']), ('Bharat_Petroleum_Corporation', ['BPCL.NS (2).csv']), ('Bharti_Airtel', ['BHARTIARTL.NS (2).csv']), ('Coal_India', ['COALINDIA.NS (2).csv']), ('Divis_Laboratories', ['DIVISLAB.NS (2).csv']), ('Grasim_industries', ['GRASIM.NS (2).csv']), ('HDFC_Life_Insurance_Comapny', ['HDFCLIFE.NS (2).csv']), ('Hindustan_Unilever', ['HINDUNILVR.NS (2).csv']), ('ICICI_Bank', ['ICICIBANK.NS (1).csv']), ('infosys', ['INFY.NS (2).csv']), ('ITC', ['ITC.NS (2).csv']), ('JSW_Steel', ['JSWSTEEL.NS (2).csv']), ('Larsen_&_Toubro', ['LT.NS (2).csv']), ('Netsle_India', ['NESTLEIND.NS (2).csv']), ('NTPC', ['NTPC.NS (2).csv']), ('Power_Grid_Corporation_of_India', ['POWERGRID.NS (2).csv']), ('Shree_cement', ['SHREECEM.NS (2).csv']), ('Tata_Consultancy_Services', ['TCS.NS (2).csv']), ('Tech_Mahindra', ['TECHM.NS (2).csv']), ('Titan_Company', ['TITAN.NS (2).csv']), ('Ultratech_cement', ['ULTRACEMCO.NS (1).csv']), ('UPL', ['UPL.NS (2).csv']), ('Wipro', ['WIPRO.NS (2).csv'])]}\n"
     ]
    }
   ],
   "source": [
    "i=-1\n",
    "j=0\n",
    "dict={'Daily':[],'Monthly':[],'Weekly':[]}\n",
    "lis=[]\n",
    "lis1=[]\n",
    "for root, dirs, files in os.walk(\".\\stocks_data\"):\n",
    "    if root=='.\\stocks_data':\n",
    "        lis=dirs\n",
    "    elif files==[]:\n",
    "        j=0\n",
    "        lis1=dirs\n",
    "        i+=1\n",
    "    else:\n",
    "        dict[lis1[j]].append((lis[i],files))\n",
    "        j+=1\n",
    "print(dict)"
   ]
  },
  {
   "cell_type": "code",
   "execution_count": 22,
   "metadata": {},
   "outputs": [
    {
     "name": "stdout",
     "output_type": "stream",
     "text": [
      "./Stocks_data\\Adani_Ports_And_Special_Economic_Zone\\ADANIPORTS.NS.csv\n"
     ]
    }
   ],
   "source": [
    "print(os.path.join('./Stocks_data',os.path.join(dict['Daily'][0][0],dict['Daily'][0][1][0])))"
   ]
  },
  {
   "cell_type": "code",
   "execution_count": 34,
   "metadata": {},
   "outputs": [],
   "source": [
    "#os.mkdir('./daily')\n",
    "for i in dict['Daily']:\n",
    "    df=pd.read_csv(os.path.join(f'./Stocks_data',os.path.join(i[0],os.path.join('Daily',i[1][0]))))\n",
    "    df.dropna()\n",
    "    (ca,cd)=pywt.dwt(df.Close,'haar')\n",
    "    ca=np.nan_to_num(ca)\n",
    "    cd=np.nan_to_num(cd)\n",
    "    plt.imsave(f'./daily/{i[0]}.png',(ca,cd))"
   ]
  },
  {
   "cell_type": "code",
   "execution_count": 35,
   "metadata": {},
   "outputs": [],
   "source": [
    "os.mkdir('./weekly')\n",
    "for i in dict['Weekly']:\n",
    "    df=pd.read_csv(os.path.join(f'./Stocks_data',os.path.join(i[0],os.path.join('Weekly',i[1][0]))))\n",
    "    df.dropna()\n",
    "    (ca,cd)=pywt.dwt(df.Close,'haar')\n",
    "    ca=np.nan_to_num(ca)\n",
    "    cd=np.nan_to_num(cd)\n",
    "    plt.imsave(f'./weekly/{i[0]}.png',(ca,cd))"
   ]
  },
  {
   "cell_type": "code",
   "execution_count": null,
   "metadata": {},
   "outputs": [],
   "source": []
  }
 ],
 "metadata": {
  "kernelspec": {
   "display_name": "base",
   "language": "python",
   "name": "python3"
  },
  "language_info": {
   "codemirror_mode": {
    "name": "ipython",
    "version": 3
   },
   "file_extension": ".py",
   "mimetype": "text/x-python",
   "name": "python",
   "nbconvert_exporter": "python",
   "pygments_lexer": "ipython3",
   "version": "3.9.12"
  },
  "orig_nbformat": 4,
  "vscode": {
   "interpreter": {
    "hash": "1edc9f3c006d43970107ce7e53cf41328985985c0ec0d6dea2a621da1a77dd4e"
   }
  }
 },
 "nbformat": 4,
 "nbformat_minor": 2
}

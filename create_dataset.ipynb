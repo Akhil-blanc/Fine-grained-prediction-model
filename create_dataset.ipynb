{
 "cells": [
  {
   "cell_type": "code",
   "execution_count": 2,
   "metadata": {},
   "outputs": [],
   "source": [
    "import pandas as pd\n",
    "import os\n",
    "import matplotlib.pyplot as plt\n",
    "import numpy as np\n",
    "import pywt\n",
    "import cv2"
   ]
  },
  {
   "cell_type": "code",
   "execution_count": 5,
   "metadata": {},
   "outputs": [],
   "source": [
    "names=[]\n",
    "for root, dirs, files in os.walk(\".\\data\\daily\"):\n",
    "    names=files"
   ]
  },
  {
   "cell_type": "code",
   "execution_count": 19,
   "metadata": {},
   "outputs": [
    {
     "name": "stdout",
     "output_type": "stream",
     "text": [
      "{'Daily': [('Adani_Ports_And_Special_Economic_Zone', ['ADANIPORTS.NS.csv']), ('Asian_Paints', ['ASIANPAINT.NS.csv']), ('Axis_Bank', ['AXISBANK.NS.csv']), ('Bharat_Petroleum_Corporation', ['BPCL.NS.csv']), ('Bharti_Airtel', ['BHARTIARTL.NS.csv']), ('Coal_India', ['COALINDIA.NS.csv']), ('Divis_Laboratories', ['DIVISLAB.NS (1).csv']), ('Grasim_industries', ['GRASIM.NS.csv']), ('HDFC_Life_Insurance_Comapny', ['HDFCLIFE.NS.csv']), ('Hindustan_Unilever', ['HINDUNILVR.NS.csv']), ('ICICI_Bank', ['ICICIBANK.NS.csv']), ('infosys', ['INFY.NS.csv']), ('ITC', ['ITC.NS.csv']), ('JSW_Steel', ['JSWSTEEL.NS.csv']), ('Larsen_&_Toubro', ['LT.NS.csv']), ('Netsle_India', ['NESTLEIND.NS.csv']), ('NTPC', ['NTPC.NS.csv']), ('Power_Grid_Corporation_of_India', ['POWERGRID.NS.csv']), ('Shree_cement', ['SHREECEM.NS.csv']), ('Tata_Consultancy_Services', ['TCS.NS.csv']), ('Tech_Mahindra', ['TECHM.NS.csv']), ('Titan_Company', ['TITAN.NS.csv']), ('Ultratech_cement', ['ULTRACEMCO.NS.csv']), ('UPL', ['UPL.NS.csv']), ('Wipro', ['WIPRO.NS.csv'])], 'Monthly': [('Adani_Ports_And_Special_Economic_Zone', ['ADANIPORTS.NS (1).csv']), ('Asian_Paints', ['ASIANPAINT.NS (1).csv']), ('Axis_Bank', ['AXISBANK.NS (1).csv']), ('Bharat_Petroleum_Corporation', ['BPCL.NS (1).csv']), ('Bharti_Airtel', ['BHARTIARTL.NS (1).csv']), ('Coal_India', ['COALINDIA.NS (1).csv']), ('Divis_Laboratories', ['DIVISLAB.NS (3).csv']), ('Grasim_industries', ['GRASIM.NS (1).csv']), ('HDFC_Life_Insurance_Comapny', ['HDFCLIFE.NS (1).csv']), ('Hindustan_Unilever', ['HINDUNILVR.NS (1).csv']), ('ICICI_Bank', ['ICICIBANK.NS (2).csv']), ('infosys', ['INFY.NS (1).csv']), ('ITC', ['ITC.NS (1).csv']), ('JSW_Steel', ['JSWSTEEL.NS (1).csv']), ('Larsen_&_Toubro', ['LT.NS (1).csv']), ('Netsle_India', ['NESTLEIND.NS (1).csv']), ('NTPC', ['NTPC.NS (1).csv']), ('Power_Grid_Corporation_of_India', ['POWERGRID.NS (1).csv']), ('Shree_cement', ['SHREECEM.NS (1).csv']), ('Tata_Consultancy_Services', ['TCS.NS (1).csv']), ('Tech_Mahindra', ['TECHM.NS (1).csv']), ('Titan_Company', ['TITAN.NS (1).csv']), ('Ultratech_cement', ['ULTRACEMCO.NS (2).csv']), ('UPL', ['UPL.NS (1).csv']), ('Wipro', ['WIPRO.NS (1).csv'])], 'Weekly': [('Adani_Ports_And_Special_Economic_Zone', ['ADANIPORTS.NS (2).csv']), ('Asian_Paints', ['ASIANPAINT.NS (2).csv']), ('Axis_Bank', ['AXISBANK.NS (2).csv']), ('Bharat_Petroleum_Corporation', ['BPCL.NS (2).csv']), ('Bharti_Airtel', ['BHARTIARTL.NS (2).csv']), ('Coal_India', ['COALINDIA.NS (2).csv']), ('Divis_Laboratories', ['DIVISLAB.NS (2).csv']), ('Grasim_industries', ['GRASIM.NS (2).csv']), ('HDFC_Life_Insurance_Comapny', ['HDFCLIFE.NS (2).csv']), ('Hindustan_Unilever', ['HINDUNILVR.NS (2).csv']), ('ICICI_Bank', ['ICICIBANK.NS (1).csv']), ('infosys', ['INFY.NS (2).csv']), ('ITC', ['ITC.NS (2).csv']), ('JSW_Steel', ['JSWSTEEL.NS (2).csv']), ('Larsen_&_Toubro', ['LT.NS (2).csv']), ('Netsle_India', ['NESTLEIND.NS (2).csv']), ('NTPC', ['NTPC.NS (2).csv']), ('Power_Grid_Corporation_of_India', ['POWERGRID.NS (2).csv']), ('Shree_cement', ['SHREECEM.NS (2).csv']), ('Tata_Consultancy_Services', ['TCS.NS (2).csv']), ('Tech_Mahindra', ['TECHM.NS (2).csv']), ('Titan_Company', ['TITAN.NS (2).csv']), ('Ultratech_cement', ['ULTRACEMCO.NS (1).csv']), ('UPL', ['UPL.NS (2).csv']), ('Wipro', ['WIPRO.NS (2).csv'])]}\n"
     ]
    }
   ],
   "source": [
    "i=-1\n",
    "j=0\n",
    "dict={'Daily':[],'Monthly':[],'Weekly':[]}\n",
    "lis=[]\n",
    "lis1=[]\n",
    "for root, dirs, files in os.walk(\".\\stocks_data\"):\n",
    "    if root=='.\\stocks_data':\n",
    "        lis=dirs\n",
    "    elif files==[]:\n",
    "        j=0\n",
    "        lis1=dirs\n",
    "        i+=1\n",
    "    else:\n",
    "        dict[lis1[j]].append((lis[i],files))\n",
    "        j+=1\n",
    "print(dict)"
   ]
  },
  {
   "cell_type": "code",
   "execution_count": null,
   "metadata": {},
   "outputs": [],
   "source": []
  },
  {
   "cell_type": "code",
   "execution_count": 34,
   "metadata": {},
   "outputs": [],
   "source": [
    "os.mkdir('./transformed_data/lr')\n",
    "for i in dict['Daily']:\n",
    "    df=pd.read_csv(os.path.join(f'./Stocks_data',os.path.join(i[0],os.path.join('Daily',i[1][0]))))\n",
    "    df.dropna()\n",
    "    (ca,cd)=pywt.dwt(df.Close,'haar')\n",
    "    ca=np.nan_to_num(ca)\n",
    "    cd=np.nan_to_num(cd)\n",
    "    plt.imsave(f'./daily/{i[0]}.png',(ca,cd))"
   ]
  },
  {
   "cell_type": "code",
   "execution_count": 35,
   "metadata": {},
   "outputs": [],
   "source": [
    "os.mkdir('./weekly')\n",
    "for i in dict['Weekly']:\n",
    "    df=pd.read_csv(os.path.join(f'./Stocks_data',os.path.join(i[0],os.path.join('Weekly',i[1][0]))))\n",
    "    df.dropna()\n",
    "    (ca,cd)=pywt.dwt(df.Close,'haar')\n",
    "    ca=np.nan_to_num(ca)\n",
    "    cd=np.nan_to_num(cd)\n",
    "    plt.imsave(f'./weekly/{i[0]}.png',(ca,cd))"
   ]
  },
  {
   "cell_type": "code",
   "execution_count": null,
   "metadata": {},
   "outputs": [],
   "source": []
  }
 ],
 "metadata": {
  "kernelspec": {
   "display_name": "base",
   "language": "python",
   "name": "python3"
  },
  "language_info": {
   "codemirror_mode": {
    "name": "ipython",
    "version": 3
   },
   "file_extension": ".py",
   "mimetype": "text/x-python",
   "name": "python",
   "nbconvert_exporter": "python",
   "pygments_lexer": "ipython3",
   "version": "3.9.12"
  },
  "orig_nbformat": 4,
  "vscode": {
   "interpreter": {
    "hash": "1edc9f3c006d43970107ce7e53cf41328985985c0ec0d6dea2a621da1a77dd4e"
   }
  }
 },
 "nbformat": 4,
 "nbformat_minor": 2
}
